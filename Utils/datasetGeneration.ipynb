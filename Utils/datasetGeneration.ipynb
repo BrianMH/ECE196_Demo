{
 "cells": [
  {
   "cell_type": "code",
   "execution_count": 2,
   "metadata": {},
   "outputs": [],
   "source": [
    "import pandas as pd\n",
    "import numpy as np\n",
    "import os\n",
    "import shutil\n",
    "from tqdm import tqdm\n",
    "import tensorflow as tf\n",
    "import matplotlib.pyplot as plt"
   ]
  },
  {
   "cell_type": "markdown",
   "metadata": {},
   "source": [
    "### Data Selection"
   ]
  },
  {
   "cell_type": "code",
   "execution_count": 3,
   "metadata": {},
   "outputs": [],
   "source": [
    "# Path to the celebA id text file\n",
    "dat_path = \"../../../Downloads/identity_CelebA.txt\"\n",
    "imgDf = pd.read_csv(dat_path, sep=' ', header=None, names=['img_name', 'class_id'], )"
   ]
  },
  {
   "cell_type": "code",
   "execution_count": 4,
   "metadata": {},
   "outputs": [],
   "source": [
    "# Acquires some useful information for dataset creation. K essentially defines how many classes to use in the subproblem.\n",
    "# In this case, we simply use the classes with the highest number of images so that a small train/val set can be made\n",
    "K = 10\n",
    "topKClasses = list(imgDf['class_id'].value_counts().nlargest(K).index)\n",
    "topKImages = imgDf.loc[imgDf['class_id'].isin(topKClasses)].groupby('class_id')"
   ]
  },
  {
   "cell_type": "code",
   "execution_count": 5,
   "metadata": {},
   "outputs": [
    {
     "name": "stdout",
     "output_type": "stream",
     "text": [
      "[3782, 3227, 2820, 3745, 3699, 9152, 8968, 9256, 6568, 1757]\n",
      "{1757: ['001786.jpg', '009205.jpg', '010068.jpg', '010092.jpg', '015487.jpg', '022885.jpg', '029964.jpg', '037947.jpg', '039638.jpg', '044981.jpg', '049471.jpg', '050173.jpg', '053239.jpg', '053740.jpg', '056513.jpg', '058193.jpg', '065581.jpg', '071786.jpg', '082512.jpg', '086944.jpg', '089511.jpg', '089991.jpg', '096209.jpg', '116292.jpg', '129311.jpg', '129525.jpg', '141053.jpg', '142833.jpg', '149901.jpg', '157739.jpg', '160434.jpg'], 2820: ['001553.jpg', '002558.jpg', '003568.jpg', '005265.jpg', '008235.jpg', '008286.jpg', '012101.jpg', '014715.jpg', '016174.jpg', '018144.jpg', '018909.jpg', '028690.jpg', '034377.jpg', '034769.jpg', '043941.jpg', '045344.jpg', '056764.jpg', '062065.jpg', '067445.jpg', '075590.jpg', '081558.jpg', '085080.jpg', '087813.jpg', '097468.jpg', '114148.jpg', '115262.jpg', '116428.jpg', '130485.jpg', '130858.jpg', '131983.jpg', '137347.jpg', '150905.jpg', '154010.jpg', '156283.jpg', '157826.jpg'], 3227: ['163292.jpg', '163342.jpg', '163433.jpg', '164055.jpg', '164502.jpg', '164865.jpg', '166481.jpg', '168160.jpg', '169332.jpg', '170001.jpg', '170261.jpg', '170771.jpg', '171864.jpg', '172066.jpg', '172613.jpg', '172626.jpg', '172935.jpg', '172992.jpg', '173228.jpg', '176466.jpg', '176588.jpg', '176733.jpg', '177512.jpg', '177992.jpg', '178292.jpg', '178326.jpg', '178416.jpg', '178820.jpg', '178900.jpg', '179040.jpg', '179137.jpg', '179170.jpg', '179391.jpg', '180837.jpg', '181836.jpg'], 3699: ['006829.jpg', '008172.jpg', '013338.jpg', '014786.jpg', '017820.jpg', '019064.jpg', '019250.jpg', '026575.jpg', '029666.jpg', '043910.jpg', '045997.jpg', '054916.jpg', '060247.jpg', '063121.jpg', '066311.jpg', '067200.jpg', '077833.jpg', '080638.jpg', '091116.jpg', '092890.jpg', '096060.jpg', '097331.jpg', '105344.jpg', '109201.jpg', '111719.jpg', '125720.jpg', '131620.jpg', '133859.jpg', '136497.jpg', '141543.jpg', '141663.jpg', '146084.jpg', '158924.jpg', '162643.jpg'], 3745: ['002279.jpg', '003647.jpg', '010999.jpg', '013645.jpg', '014730.jpg', '016690.jpg', '020899.jpg', '030938.jpg', '037428.jpg', '050708.jpg', '051421.jpg', '054312.jpg', '056544.jpg', '058902.jpg', '059117.jpg', '068741.jpg', '077977.jpg', '084190.jpg', '088956.jpg', '100589.jpg', '104196.jpg', '108338.jpg', '110382.jpg', '112998.jpg', '115095.jpg', '122016.jpg', '128346.jpg', '130218.jpg', '139067.jpg', '142641.jpg', '145722.jpg', '146333.jpg', '148494.jpg', '149042.jpg'], 3782: ['162911.jpg', '162999.jpg', '163029.jpg', '165037.jpg', '168682.jpg', '168897.jpg', '169007.jpg', '169376.jpg', '170404.jpg', '170479.jpg', '173006.jpg', '173054.jpg', '173077.jpg', '173218.jpg', '173996.jpg', '174009.jpg', '175532.jpg', '175541.jpg', '175760.jpg', '176864.jpg', '177091.jpg', '178019.jpg', '178103.jpg', '178528.jpg', '178574.jpg', '178726.jpg', '179286.jpg', '180343.jpg', '180478.jpg', '180481.jpg', '180853.jpg', '180890.jpg', '181300.jpg', '182155.jpg', '182371.jpg'], 6568: ['000150.jpg', '014728.jpg', '020603.jpg', '029204.jpg', '031324.jpg', '031712.jpg', '050675.jpg', '054819.jpg', '056096.jpg', '056873.jpg', '061257.jpg', '071277.jpg', '081963.jpg', '085304.jpg', '085859.jpg', '088764.jpg', '091249.jpg', '096607.jpg', '104754.jpg', '105836.jpg', '116901.jpg', '118411.jpg', '121569.jpg', '121886.jpg', '123613.jpg', '124276.jpg', '124957.jpg', '153211.jpg', '155085.jpg', '156390.jpg', '159588.jpg'], 8968: ['005950.jpg', '014689.jpg', '016992.jpg', '021316.jpg', '026052.jpg', '027584.jpg', '030741.jpg', '031911.jpg', '047987.jpg', '050894.jpg', '051575.jpg', '053221.jpg', '060483.jpg', '062607.jpg', '068665.jpg', '073142.jpg', '079337.jpg', '082528.jpg', '086145.jpg', '096223.jpg', '100603.jpg', '100938.jpg', '105091.jpg', '114573.jpg', '116974.jpg', '120566.jpg', '127124.jpg', '134236.jpg', '139422.jpg', '140742.jpg', '156364.jpg', '159983.jpg'], 9152: ['009193.jpg', '012761.jpg', '021676.jpg', '029667.jpg', '037007.jpg', '037664.jpg', '039490.jpg', '046109.jpg', '049519.jpg', '052123.jpg', '059935.jpg', '061167.jpg', '074811.jpg', '077175.jpg', '078776.jpg', '079804.jpg', '081419.jpg', '083683.jpg', '088118.jpg', '089718.jpg', '093177.jpg', '095565.jpg', '099515.jpg', '112515.jpg', '113202.jpg', '116076.jpg', '124304.jpg', '130849.jpg', '142996.jpg', '143398.jpg', '156302.jpg', '162640.jpg'], 9256: ['182996.jpg', '183495.jpg', '183522.jpg', '183710.jpg', '183769.jpg', '184315.jpg', '184767.jpg', '185489.jpg', '185906.jpg', '186842.jpg', '188054.jpg', '189667.jpg', '190371.jpg', '190476.jpg', '191232.jpg', '191730.jpg', '192827.jpg', '193945.jpg', '194307.jpg', '194952.jpg', '196329.jpg', '196956.jpg', '197254.jpg', '197700.jpg', '197768.jpg', '198289.jpg', '198401.jpg', '200306.jpg', '200678.jpg', '200853.jpg', '201865.jpg', '201873.jpg']}\n"
     ]
    }
   ],
   "source": [
    "# Some simple visualization\n",
    "print(topKClasses)\n",
    "\n",
    "classDict = dict()\n",
    "for key, item in topKImages:\n",
    "    classDict[key] = list(item.values[:,0])\n",
    "print(classDict)"
   ]
  },
  {
   "cell_type": "code",
   "execution_count": 10,
   "metadata": {},
   "outputs": [],
   "source": [
    "# Separate relevant files\n",
    "alignedPrefix = '../../../Downloads/img_align_celeba/'\n",
    "# nonAlignedPrefix = '../../../Downloads/img_celeba/'\n",
    "\n",
    "# destNonaligned = '../CelebA/SourceUnaligned/'\n",
    "destAligned = '../CelebA/datasets/'\n",
    "\n",
    "# create dirs and transfer images\n",
    "# os.makedirs(destNonaligned, exist_ok=True)\n",
    "os.makedirs(destAligned, exist_ok=True)\n",
    "\n",
    "for cName in classDict:\n",
    "    # create class dir if necessary\n",
    "#     cnDir = destNonaligned + str(cName) + '/'\n",
    "    caDir = destAligned + str(cName) + '/'\n",
    "#     if not os.path.isdir(cnDir):\n",
    "#         os.mkdir(cnDir)\n",
    "    if not os.path.isdir(caDir):\n",
    "        os.mkdir(caDir)\n",
    "    \n",
    "    for imageFN in classDict[cName]:\n",
    "        # first copy the aligned images\n",
    "        oPath = os.path.join(alignedPrefix, imageFN)\n",
    "        destPath = os.path.join(caDir, imageFN)\n",
    "        shutil.copyfile(oPath, destPath)\n",
    "        \n",
    "        # and now the unaligned ones\n",
    "#         oPath = os.path.join(nonAlignedPrefix, imageFN)\n",
    "#         destPath = os.path.join(cnDir, imageFN)\n",
    "#         shutil.copyfile(oPath, destPath)"
   ]
  },
  {
   "cell_type": "markdown",
   "metadata": {},
   "source": [
    "### Data BBox Conversion (YOLO)\n",
    "\n",
    "JSON Structure:\n",
    "``` Python\n",
    "  tf_example = tf.train.Example(features=tf.train.Features(feature={\n",
    "      'image/height': dataset_util.int64_feature(height),\n",
    "      'image/width': dataset_util.int64_feature(width),\n",
    "      'image/filename': dataset_util.bytes_feature(filename),\n",
    "      'image/source_id': dataset_util.bytes_feature(filename),\n",
    "      'image/encoded': dataset_util.bytes_feature(encoded_image_data),\n",
    "      'image/format': dataset_util.bytes_feature(image_format),\n",
    "      'image/object/bbox/xmin': dataset_util.float_list_feature(xmins),\n",
    "      'image/object/bbox/xmax': dataset_util.float_list_feature(xmaxs),\n",
    "      'image/object/bbox/ymin': dataset_util.float_list_feature(ymins),\n",
    "      'image/object/bbox/ymax': dataset_util.float_list_feature(ymaxs),\n",
    "      'image/object/class/text': dataset_util.bytes_list_feature(classes_text),\n",
    "      'image/object/class/label': dataset_util.int64_list_feature(classes),\n",
    "  }))\n",
    "```"
   ]
  },
  {
   "cell_type": "code",
   "execution_count": null,
   "metadata": {
    "scrolled": false
   },
   "outputs": [],
   "source": [
    "# Misc needed to set some FLAG for TF\n",
    "class Object():\n",
    "    pass\n",
    "FLAGS = Object()\n",
    "FLAGS.output_path = '../../YoloTest/yolov3-tf2/data/train_faces.tfrecord'\n",
    "FLAGS.val_path = '../../YoloTest/yolov3-tf2/data/val_faces.tfrecord'\n",
    "\n",
    "def create_tf_example(example):\n",
    "    # load particular image and populate following parts\n",
    "    img_raw = open(example['img_path'], 'rb').read()\n",
    "    img_mat = plt.imread(example['img_path'])\n",
    "    height = img_mat.shape[0] # Image height\n",
    "    width = img_mat.shape[1] # Image width\n",
    "    \n",
    "    # Calculated using values from example\n",
    "    xmin = [1.0*example['xmin']/width,] # List of normalized left x coordinates in bounding box (1 per box)\n",
    "    xmax = [1.0*example['xmax']/width,] # List of normalized right x coordinates in bounding box\n",
    "                         # (1 per box)\n",
    "    ymin = [1.0*example['ymin']/height,] # List of normalized top y coordinates in bounding box (1 per box)\n",
    "    ymax = [1.0*example['ymax']/height,] # List of normalized bottom y coordinates in bounding box\n",
    "                         # (1 per box)\n",
    "    classes_text = [example['label_text'],] # List of string class name of bounding box (1 per box)\n",
    "    classes = [example['label'],] # List of integer class id of bounding box (1 per box)\n",
    "    \n",
    "    tf_example = tf.train.Example(features=tf.train.Features(feature={\n",
    "        'image/height': tf.train.Feature(int64_list=tf.train.Int64List(value=[height])),\n",
    "        'image/width': tf.train.Feature(int64_list=tf.train.Int64List(value=[width])),\n",
    "        'image/filename': tf.train.Feature(bytes_list=tf.train.BytesList(value=[\n",
    "            example['filename'].encode('utf8')])),\n",
    "        'image/source_id': tf.train.Feature(bytes_list=tf.train.BytesList(value=[\n",
    "            example['filename'].encode('utf8')])),\n",
    "        'image/encoded': tf.train.Feature(bytes_list=tf.train.BytesList(value=[img_raw])),\n",
    "        'image/format': tf.train.Feature(bytes_list=tf.train.BytesList(value=['jpeg'.encode('utf8')])),\n",
    "        'image/object/bbox/xmin': tf.train.Feature(float_list=tf.train.FloatList(value=xmin)),\n",
    "        'image/object/bbox/xmax': tf.train.Feature(float_list=tf.train.FloatList(value=xmax)),\n",
    "        'image/object/bbox/ymin': tf.train.Feature(float_list=tf.train.FloatList(value=ymin)),\n",
    "        'image/object/bbox/ymax': tf.train.Feature(float_list=tf.train.FloatList(value=ymax)),\n",
    "        'image/object/class/text': tf.train.Feature(bytes_list=tf.train.BytesList(value=classes_text)),\n",
    "        'image/object/class/label': tf.train.Feature(int64_list=tf.train.Int64List(value=classes)),\n",
    "    }))\n",
    "    return tf_example\n",
    "\n",
    "''' OUTPUT: SAMPLE_IMG_PATH / FILENAME / X_MIN / X_MAX / Y_MIN / Y_MAX / LABEL_INT / LABEL_TEXT'''\n",
    "def read_dataset(bboxPath, imsPath):\n",
    "    # output is list of dicts\n",
    "    outSamples = []\n",
    "    \n",
    "    # Reads in image names line by line\n",
    "    with open(bboxPath, 'r') as inFile:\n",
    "        bboxLines = inFile.readlines()\n",
    "        \n",
    "    # Remove first two lines\n",
    "    bboxLines = bboxLines[2:]\n",
    "    \n",
    "    # Now process each line individually\n",
    "    for imageLine in bboxLines:\n",
    "        example = dict()\n",
    "        filename, x1, y1, w, h = imageLine.split()\n",
    "        example['img_path'] = imsPath + filename\n",
    "        example['filename'] = filename\n",
    "        example['xmin'] = int(x1)\n",
    "        example['ymin'] = int(y1)\n",
    "        example['xmax'] = int(x1) + int(w)\n",
    "        example['ymax'] = int(y1) + int(h)\n",
    "        example['label_text'] = \"face\".encode('utf-8')\n",
    "        example['label'] = 0\n",
    "        \n",
    "        outSamples.append(example)\n",
    "        \n",
    "    return outSamples\n",
    "\n",
    "# read in your dataset to examples variable\n",
    "examples = read_dataset('../../../Downloads/list_bbox_celeba.txt', '../../Downloads/img_celeba/')\n",
    "# trainLen = int(0.8*(len(examples)))\n",
    "trainLen = 20000\n",
    "valLen = 10000\n",
    "\n",
    "# Write the dataset files\n",
    "writer = tf.io.TFRecordWriter(FLAGS.output_path)\n",
    "for example in tqdm(examples[:trainLen]):\n",
    "    tf_example = create_tf_example(example)\n",
    "    writer.write(tf_example.SerializeToString())\n",
    "writer.close()\n",
    "\n",
    "# write validation now\n",
    "writer = tf.io.TFRecordWriter(FLAGS.val_path)\n",
    "for example in tqdm(examples[trainLen+1:trainLen+valLen+1]):\n",
    "    tf_example = create_tf_example(example)\n",
    "    writer.write(tf_example.SerializeToString())\n",
    "writer.close()"
   ]
  },
  {
   "cell_type": "code",
   "execution_count": null,
   "metadata": {},
   "outputs": [],
   "source": []
  }
 ],
 "metadata": {
  "kernelspec": {
   "display_name": "Python 3",
   "language": "python",
   "name": "python3"
  },
  "language_info": {
   "codemirror_mode": {
    "name": "ipython",
    "version": 3
   },
   "file_extension": ".py",
   "mimetype": "text/x-python",
   "name": "python",
   "nbconvert_exporter": "python",
   "pygments_lexer": "ipython3",
   "version": "3.7.7"
  }
 },
 "nbformat": 4,
 "nbformat_minor": 4
}
